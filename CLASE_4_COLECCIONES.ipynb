{
  "nbformat": 4,
  "nbformat_minor": 0,
  "metadata": {
    "colab": {
      "provenance": [],
      "authorship_tag": "ABX9TyPrtNUPz298niIvmGoRIyOu",
      "include_colab_link": true
    },
    "kernelspec": {
      "name": "python3",
      "display_name": "Python 3"
    },
    "language_info": {
      "name": "python"
    }
  },
  "cells": [
    {
      "cell_type": "markdown",
      "metadata": {
        "id": "view-in-github",
        "colab_type": "text"
      },
      "source": [
        "<a href=\"https://colab.research.google.com/github/ximenanoratocruz0-create/Clases-notebooks-/blob/main/CLASE_4_COLECCIONES.ipynb\" target=\"_parent\"><img src=\"https://colab.research.google.com/assets/colab-badge.svg\" alt=\"Open In Colab\"/></a>"
      ]
    },
    {
      "cell_type": "markdown",
      "source": [
        "# **# Colecciones.**\n",
        "\n",
        "Las colecciones son tipos cuyos objetos son capaces de contener a otros objetos.\n",
        "\n",
        "Python 3 cuenta con los siguientes tipos de colecciones.\n",
        "\n",
        "\n",
        "*   str\n",
        "*   bytes.\n",
        "*   bytearray.\n",
        "*   list.\n",
        "*   tuple.\n",
        "*   dict.\n",
        "*   set.\n",
        "*   frozenset.\n",
        "\n",
        "\n",
        "# El tipo  `str`.\n",
        "\n",
        "Las cadenas de caracteres son colecciones ordenadas e indexables numéricamente de caracteres.\n",
        "\n",
        "El tipo más común de cadenas de caracteres es str, el cual se define encerrando el texto entre comillas \" o apóstrofes '.\n",
        "\n",
        "Cualquiera de las siguientes sintaxis es válida:\n",
        "```\n",
        "\"<texto>\"\n",
        "'<texto>'\n",
        "```\n",
        "\n",
        "Los objetos de tipo str son inmutables.\n",
        "\n",
        "En Python 3 los objetos str utilizan la codificación de caracteres UTF-8 de Unicode.\n",
        "\n",
        "\n",
        "\n",
        "**Ejemplos:**"
      ],
      "metadata": {
        "id": "qnazSJXiDnBn"
      }
    },
    {
      "cell_type": "code",
      "execution_count": null,
      "metadata": {
        "id": "Mq6DIOMvDlkO"
      },
      "outputs": [],
      "source": [
        "'Hola Mundo'"
      ]
    },
    {
      "cell_type": "code",
      "source": [
        "\"Vamos al McDonald's\""
      ],
      "metadata": {
        "id": "gpaYTeUPT59z"
      },
      "execution_count": null,
      "outputs": []
    },
    {
      "cell_type": "code",
      "source": [
        "'Kurt Friedrich Gödel'"
      ],
      "metadata": {
        "id": "k75kEntIT60K"
      },
      "execution_count": null,
      "outputs": []
    },
    {
      "cell_type": "markdown",
      "source": [
        "La siguiente celda, definirá a un objeto ***str*** vacío."
      ],
      "metadata": {
        "id": "fHbUnYwvT9B6"
      }
    },
    {
      "cell_type": "code",
      "source": [
        "''"
      ],
      "metadata": {
        "id": "DArkF5vYUAyh"
      },
      "execution_count": null,
      "outputs": []
    },
    {
      "cell_type": "markdown",
      "source": [
        "# El tipo bytes.\n",
        "\n",
        "Los objetos de tipo bytes son colecciones ordenadas, inmutables e indexables numéricamente de caracteres ASCII, que corresponden a un valor numérico que va de **0 a 255**.\n",
        "\n",
        "El contenido de este tipo de caracteres se encierra entre apóstrofes y comillas, pero se antecede una letra b al principio del objeto.\n",
        "\n",
        "Cualquiera de las siguientes sintaxis es válida:\n",
        "\n",
        "\n",
        "\n",
        "```\n",
        "b\"<texto>\"\n",
        "b'<texto>'\n",
        "```\n",
        "\n",
        "**Ejemplos:**\n",
        "\n",
        "Las siguiente celdas son ejemplos correctos de objetos tipo bytes."
      ],
      "metadata": {
        "id": "gxyHzAjlUPLi"
      }
    },
    {
      "cell_type": "code",
      "source": [
        "b'Hola'"
      ],
      "metadata": {
        "id": "JyKAdyqvUQc4"
      },
      "execution_count": null,
      "outputs": []
    },
    {
      "cell_type": "markdown",
      "source": [
        "La siguiente celda, definirá a un objeto bytes vacío."
      ],
      "metadata": {
        "id": "yZJZSI5UUV5j"
      }
    },
    {
      "cell_type": "code",
      "source": [
        "b''"
      ],
      "metadata": {
        "id": "wPGQo179UXxO"
      },
      "execution_count": null,
      "outputs": []
    },
    {
      "cell_type": "markdown",
      "source": [
        "La siguiente celda define a un objeto tipo bytes que incluye un caracter inexistente en la tabla del código ASCII , lo cual desencadenará un error de tipo **SyntaxError**."
      ],
      "metadata": {
        "id": "rrfcc7zQUZ-q"
      }
    },
    {
      "cell_type": "code",
      "source": [
        "b'Kurt Friedrich Gödel'"
      ],
      "metadata": {
        "id": "rAzqGQAVUdAC"
      },
      "execution_count": null,
      "outputs": []
    },
    {
      "cell_type": "markdown",
      "source": [
        "**El tipo bytearray.**\n",
        "\n",
        "Los objetos de tipo bytearray son colecciones ordenadas, mutables e indexables numéricamente de caracteres ASCII, los cuales son creado a partir de un objeto de tipo bytes mendiante la función **bytearray()** usando la siguiente sintaxis:\n",
        "\n",
        "```\n",
        "bytearray(<objeto tipo bytes>)\n",
        "```\n",
        "\n",
        "Ejemplo:\n",
        "\n",
        "La siguiente celda creará un objeto de tipo bytearray a partir del objeto b'hola'."
      ],
      "metadata": {
        "id": "X8bErkwKUgEP"
      }
    },
    {
      "cell_type": "code",
      "source": [
        "bytearray(b'hola')"
      ],
      "metadata": {
        "id": "964lDS-6UjDP"
      },
      "execution_count": null,
      "outputs": []
    },
    {
      "cell_type": "markdown",
      "source": [
        "**El tipo list.**\n",
        "\n",
        "Los objetos tipo ***list*** son colecciones ordenadas de objetos, los cuales son indexables numéricamente y son mutables.\n",
        "\n",
        "Se definen encerrando entre corchetes **[ ]** una sucesión de objetos separados por comas ,.\n",
        "\n",
        "La sintaxis es la siguiente:\n",
        "\n",
        "\n",
        "\n",
        "```\n",
        "[<objeto 1>, <objeto 2>, ..., <objeto n>]\n",
        "```\n",
        "\n",
        "**Ejemplos:**\n",
        "\n",
        "Las siguientes celdas definen objetos tipo ***list*** válidos."
      ],
      "metadata": {
        "id": "_kv_dDGvUld-"
      }
    },
    {
      "cell_type": "code",
      "source": [
        "[1, 2, \"tres\", True, None]"
      ],
      "metadata": {
        "id": "xdX9IWb-UwOt"
      },
      "execution_count": null,
      "outputs": []
    },
    {
      "cell_type": "code",
      "source": [
        "[None]"
      ],
      "metadata": {
        "id": "xHj6vQ3aUxZD"
      },
      "execution_count": null,
      "outputs": []
    },
    {
      "cell_type": "markdown",
      "source": [
        "La siguiente celda define a un objetos tipo ***list*** que a su vez contiene a otro objeto de tipo ***list***."
      ],
      "metadata": {
        "id": "ywSj6pd2U01x"
      }
    },
    {
      "cell_type": "code",
      "source": [
        "[False, ['auto', 30, 'gasolina'], 73.12]"
      ],
      "metadata": {
        "id": "qIgJNKhjU3-b"
      },
      "execution_count": null,
      "outputs": []
    },
    {
      "cell_type": "markdown",
      "source": [
        "La siguiente celda define a un objeto tipo **list** *vacío.*"
      ],
      "metadata": {
        "id": "l4UKDdJpU8aK"
      }
    },
    {
      "cell_type": "code",
      "source": [
        "[]"
      ],
      "metadata": {
        "id": "xIuuD1xtU_3x"
      },
      "execution_count": null,
      "outputs": []
    },
    {
      "cell_type": "markdown",
      "source": [
        "**El tipo tuple.**\n",
        "\n",
        "Los objetos tipo ***tuple*** son colecciones ordenadas de objetos, los cuales son indexables numéricamente e inmutables.\n",
        "\n",
        "Se definen encerrando entre paréntesis **( )** una sucesión de objetos separados por comas ,.\n",
        "\n",
        "La sintaxis es la siguiente:\n",
        "\n",
        "\n",
        "\n",
        "```\n",
        "(<objeto 1>, <objeto 2>, ..., <objeto n>)\n",
        "```"
      ],
      "metadata": {
        "id": "lVV4UeWjVC6c"
      }
    },
    {
      "cell_type": "markdown",
      "source": [
        "Ejemplos:\n",
        "\n",
        "Las siguientes celdas también definen objetos tipo **tuple **válidos."
      ],
      "metadata": {
        "id": "27liieyfVTRu"
      }
    },
    {
      "cell_type": "code",
      "source": [
        "(1, 2, \"tres\", True, None)"
      ],
      "metadata": {
        "id": "xcP98JpIWcF8"
      },
      "execution_count": null,
      "outputs": []
    },
    {
      "cell_type": "markdown",
      "source": [
        "La siguiente celda define a un objetos tipo **tuple** que a su vez contiene a otro objeto de tipo **list**."
      ],
      "metadata": {
        "id": "bIDwZDXpWepT"
      }
    },
    {
      "cell_type": "code",
      "source": [
        "(False, ['auto', 30, 'gasolina'], 73.12)"
      ],
      "metadata": {
        "colab": {
          "base_uri": "https://localhost:8080/"
        },
        "id": "kZ8jUJ-ZWhfb",
        "outputId": "73b5178a-0548-4dbc-8302-c8d5ea4ab2e6"
      },
      "execution_count": null,
      "outputs": [
        {
          "output_type": "execute_result",
          "data": {
            "text/plain": [
              "(False, ['auto', 30, 'gasolina'], 73.12)"
            ]
          },
          "metadata": {},
          "execution_count": 2
        }
      ]
    },
    {
      "cell_type": "markdown",
      "source": [
        "La siguiente celda define a un objeto tipo **tuple** vacío."
      ],
      "metadata": {
        "id": "rcE76XkbWkfq"
      }
    },
    {
      "cell_type": "code",
      "source": [
        "()"
      ],
      "metadata": {
        "id": "VmB_rBu-WpSk"
      },
      "execution_count": null,
      "outputs": []
    },
    {
      "cell_type": "markdown",
      "source": [
        "NOTA:\n",
        "\n",
        "Un objeto de tipo tuple que solo contiene un elemento ***None*** se convierte en ***None***."
      ],
      "metadata": {
        "id": "j58OvbcSWqha"
      }
    },
    {
      "cell_type": "code",
      "source": [
        "(None)"
      ],
      "metadata": {
        "id": "iAl3yOv6WuA5"
      },
      "execution_count": null,
      "outputs": []
    },
    {
      "cell_type": "markdown",
      "source": [
        "Para crear un objeto tuple que contenga un elemento ***None***, se debe de poner una coma , al final."
      ],
      "metadata": {
        "id": "wAcGceLyWvtg"
      }
    },
    {
      "cell_type": "code",
      "source": [
        "(None,)"
      ],
      "metadata": {
        "id": "gHOq9-STWy2R"
      },
      "execution_count": null,
      "outputs": []
    },
    {
      "cell_type": "markdown",
      "source": [
        "**El tipo dict.**\n",
        "\n",
        "El tipo dict es una colección mutable de pares <clave>:<valor>, el cual es indexable mediante la clave de cada elemento.\n",
        "\n",
        "Los pares están separados por comas , y delimitados por llaves **{ }**.\n",
        "\n",
        "La sintaxis para definir un objeto tipo dict es:\n",
        "\n",
        "\n",
        "\n",
        "```\n",
        "{<clave 1>:<valor 1>, <clave 2>:<valor 2>, ... , <clave n>:<valor n>}\n",
        "```\n",
        "\n",
        "\n",
        "La clave, a la cual también se le referirá como **\"identificador\"**, debe de ser de algún tipo inmutable y único dentro del objeto tipo **dict**.\n",
        "\n",
        "El valor puede ser un objeto de cualquier tipo y puede repetirse dentro del objeto de tipo dict.\n",
        "NOTA: A partir de Python 3.7, los objetos de tipo dict respetan el orden en el que los elementos son ingresados, aun cuando no son indexables numéricamente. Las versiones previas de Python no necesariamente lo respetan.\n",
        "\n",
        "**Ejemplos:**\n",
        "\n",
        "Las siguientes celdas definen objetos tipo dict válidos."
      ],
      "metadata": {
        "id": "P91K1xbNW0k1"
      }
    },
    {
      "cell_type": "code",
      "source": [
        "{'nulo':None, True:'V', 2:[1, 2, 3], '2':False, ('x', 'y'): 15.3}"
      ],
      "metadata": {
        "id": "EvIBelYLW4cG"
      },
      "execution_count": null,
      "outputs": []
    },
    {
      "cell_type": "code",
      "source": [
        "{'nombre':'Juan', 'apellido': 'Pérez', 'promedio':7.5}"
      ],
      "metadata": {
        "id": "r_75HkDfW6-S"
      },
      "execution_count": null,
      "outputs": []
    },
    {
      "cell_type": "markdown",
      "source": [
        "La siguiente celda define un objeto tipo dict vacio."
      ],
      "metadata": {
        "id": "jvLcil6kW9Ps"
      }
    },
    {
      "cell_type": "code",
      "source": [
        "{}"
      ],
      "metadata": {
        "id": "zzVWw-YFW-_J"
      },
      "execution_count": null,
      "outputs": []
    },
    {
      "cell_type": "markdown",
      "source": [
        "La siguiente celda definen un objeto tipo ***dict*** que repite un par con la clave nombre. El último par es el que será conservado."
      ],
      "metadata": {
        "id": "nJT2N1jVW_8z"
      }
    },
    {
      "cell_type": "code",
      "source": [
        "{'nombre':'Juan', 'apellido': 'Pérez', 'promedio':7.5, 'nombre':'Laura'}"
      ],
      "metadata": {
        "id": "SqyCwz7DXCH4"
      },
      "execution_count": null,
      "outputs": []
    },
    {
      "cell_type": "markdown",
      "source": [
        "La siguiente celda define a un objeto tipo ***dict*** ingresando como identificador al objeto `[True, 1]` de tipo listel cual es **mutable**, lo cual desencadenará un error de tipo **TypeError**."
      ],
      "metadata": {
        "id": "NvoK06WUXGJ0"
      }
    },
    {
      "cell_type": "code",
      "source": [
        "{'nombre':'Juan', 'apellido': 'Pérez', [True, 1]:7.5}"
      ],
      "metadata": {
        "id": "vv2z4SuAXOdB"
      },
      "execution_count": null,
      "outputs": []
    },
    {
      "cell_type": "markdown",
      "source": [
        "**El tipo set.**\n",
        "\n",
        "Los objetos de tipo **set** son colecciones de objetos capaces de realizar operaciones de conjuntos. Aún cuando los objetos set son mutables, los elementos contenidos en ellos son únicos e inmutables.\n",
        "\n",
        "Los objetos de tipo set se definen encerrando entre llaves **{ }** una sucesión de objetos separados por comas ,.\n",
        "\n",
        "La sintaxis es la siguiente:\n",
        "\n",
        "`{<objeto 1>,<objeto 2>, ..., <objeto n>}`\n",
        "En caso de que se definan varios elementos del mismo valor, sólo se conservará uno.\n",
        "\n",
        "**NOTA:** Los objetos de tipo set no respetan necsariamente el orden en el que los elementos son ingresado.\n",
        "\n",
        "**Ejemplos:**\n",
        "\n",
        "Las siguientes celdas definen objetos tipo set válidos."
      ],
      "metadata": {
        "id": "Tu5RkpM-XQj6"
      }
    },
    {
      "cell_type": "code",
      "source": [
        "{False, ('auto', 30, 'gasolina'), 73.12}"
      ],
      "metadata": {
        "id": "hlBwrN0HXTDa"
      },
      "execution_count": null,
      "outputs": []
    },
    {
      "cell_type": "markdown",
      "source": [
        "La siguiente celda define un objeto tipo ***set*** que incluye varios elementos de valor numérico equivalente a **3** aún cuando no son del mismo tipo y también se incluye el objeto **'3'**, el cual no es un valor numérico, sino un caracter."
      ],
      "metadata": {
        "id": "GnESd6wuXWhB"
      }
    },
    {
      "cell_type": "code",
      "source": [
        "{3, 2, True, None, 0, False, 3.0, 5, 3., '3', 'Hola', 3, 3, 1}"
      ],
      "metadata": {
        "id": "kfBymwyzXZ-J"
      },
      "execution_count": null,
      "outputs": []
    },
    {
      "cell_type": "markdown",
      "source": [
        "En la siguiente celda se define un objeto de tipo ***set*** en donde **1** y **True** tienen el mismo valor aunque no son del mismo tipo. En este caso, se desecha uno de estos objetos."
      ],
      "metadata": {
        "id": "ObGwT7jMXcKf"
      }
    },
    {
      "cell_type": "code",
      "source": [
        "{1, 2, \"tres\", True, None}"
      ],
      "metadata": {
        "id": "gn1h1PCWXesa"
      },
      "execution_count": null,
      "outputs": []
    },
    {
      "cell_type": "markdown",
      "source": [
        "La siguiente celda define a un objeto de tipo ***set*** que incluye a un objeto de tipo ***list***, el cual es mutable, lo cual desencadenará un error de tipo **TypeError**."
      ],
      "metadata": {
        "id": "gBdvcbuoXiX3"
      }
    },
    {
      "cell_type": "code",
      "source": [
        "{False, ['auto', 30, 'gasolina'], 73.12}"
      ],
      "metadata": {
        "id": "g1suATgTXl2O"
      },
      "execution_count": null,
      "outputs": []
    },
    {
      "cell_type": "markdown",
      "source": [
        "La siguiente celda define a un objeto de tipo ***set*** que incluye a un objeto de tipo dict, el cual es mutable, lo cual desencadenará un error de tipo **TypeError**."
      ],
      "metadata": {
        "id": "q_lPT_ugXovC"
      }
    },
    {
      "cell_type": "code",
      "source": [
        "{None, {'uno':1, 'dos': 2}}"
      ],
      "metadata": {
        "id": "cr-1TGdEXrgX"
      },
      "execution_count": null,
      "outputs": []
    },
    {
      "cell_type": "markdown",
      "source": [
        "**El tipo frozenset.**\n",
        "\n",
        "Los objetos tipo ***frozenset ***son conjuntos inmutables de objetos únicos.\n",
        "\n",
        "Este tipo de objetos sólo puede contener objetos inmutables.\n",
        "\n",
        "Se definen utilizando la función **frozenset()** e ingresando una colección como argumento.\n",
        "\n",
        "**La sintaxis es la siguiente:**\n",
        "\n",
        "`frozenset(<colección>)`\n",
        "\n",
        "La función frozenset() puede aceptar los siguientes tipos de objetos, siempre y cuando contengan exclusivamente objetos inmutables.\n",
        "\n",
        "La función frozenset() puede aceptar los siguientes tipos de objetos, siempre y cuando contengan exclusivamente objetos inmutables.\n",
        "\n",
        "\n",
        "*   set\n",
        "*   list.\n",
        "*   tuple.\n",
        "*   Elemento de lista\n",
        "*   Elemento de lista\n",
        "\n",
        "\n",
        "\n",
        "En el caso de los objetos de **dict**, se toma exclusivamente a las claves para formar el objeto.\n",
        "En el caso de los objetos de tipo **str** y **bytes**, cada caracter de la cadena se vuelve un elemento separado.\n",
        "\n",
        "**NOTA:** Los objetos de tipo frozenset no necesariamente respetan el orden en el que los elementos son ingresados.\n",
        "\n",
        "**Ejemplos:**  La siguiente celda separará cada caracter del objeto 'Caracoles' y creará un conjunto de caracteres únicos."
      ],
      "metadata": {
        "id": "MO-1-3IhXt8T"
      }
    },
    {
      "cell_type": "code",
      "source": [
        "frozenset('Caracoles')"
      ],
      "metadata": {
        "id": "2mm5yxNAXyY9"
      },
      "execution_count": null,
      "outputs": []
    },
    {
      "cell_type": "markdown",
      "source": [
        "La siguiente celda separará cada caracter del objeto `b'Caracoles'` y creará un conjunto de valores enteros únicos. Cada valor corresponde a la posición de cada caracter en el código ASCII."
      ],
      "metadata": {
        "id": "1Mg-5QqiX1Eb"
      }
    },
    {
      "cell_type": "code",
      "source": [
        "frozenset(b'Caracoles')"
      ],
      "metadata": {
        "id": "9Vcyv0_QX4My"
      },
      "execution_count": null,
      "outputs": []
    },
    {
      "cell_type": "markdown",
      "source": [
        "La siguiente celda creará un objeto **frozenset** a partir de un objeto de tipo **list**."
      ],
      "metadata": {
        "id": "ymi66rN9X6M0"
      }
    },
    {
      "cell_type": "code",
      "source": [
        "frozenset([1, 2, 3])"
      ],
      "metadata": {
        "id": "DkFNzZEgX8qe"
      },
      "execution_count": null,
      "outputs": []
    },
    {
      "cell_type": "markdown",
      "source": [
        "La siguiente celda creará un objeto **frozenset** a partir de un objeto de tipo **list**."
      ],
      "metadata": {
        "id": "_0T01fWFX-jX"
      }
    },
    {
      "cell_type": "code",
      "source": [
        "frozenset([1, 2, 3])"
      ],
      "metadata": {
        "id": "z7ortm8KYAoY"
      },
      "execution_count": null,
      "outputs": []
    },
    {
      "cell_type": "markdown",
      "source": [
        "La siguiente celda creará un objeto frozenset a partir de un objeto de tipo tuple."
      ],
      "metadata": {
        "id": "nkd0R6QOYCwy"
      }
    },
    {
      "cell_type": "code",
      "source": [
        "frozenset((1, 2, 3))"
      ],
      "metadata": {
        "id": "CgIiJeGXYFSK"
      },
      "execution_count": null,
      "outputs": []
    },
    {
      "cell_type": "markdown",
      "source": [
        "La siguiente celda creará un objeto **frozenset** a partir de un objeto de tipo ***dict***."
      ],
      "metadata": {
        "id": "0JWixuWiYHjw"
      }
    },
    {
      "cell_type": "code",
      "source": [
        "frozenset({1, 2, 3})"
      ],
      "metadata": {
        "id": "flBSO56DYJt4"
      },
      "execution_count": null,
      "outputs": []
    },
    {
      "cell_type": "markdown",
      "source": [
        "La siguiente celda creará un objeto frozenset a partir de un objeto de tipo ***dict***. En este caso las claves serán las que conformen el nuevo objeto."
      ],
      "metadata": {
        "id": "qYJRURuFYMR7"
      }
    },
    {
      "cell_type": "code",
      "source": [
        "frozenset({'nombre': 'Juan', 'apellido': 'Pérez'})"
      ],
      "metadata": {
        "id": "FybDiHgTYQfG"
      },
      "execution_count": null,
      "outputs": []
    },
    {
      "cell_type": "markdown",
      "source": [
        "La siguiente celda define un objeto de tipo ***frozenset*** vacío."
      ],
      "metadata": {
        "id": "qF9pBuKTYR6S"
      }
    },
    {
      "cell_type": "code",
      "source": [
        "frozenset({})"
      ],
      "metadata": {
        "id": "Xbso0hpMYPW5"
      },
      "execution_count": null,
      "outputs": []
    },
    {
      "cell_type": "markdown",
      "source": [
        "La siguiente celda contiene al elemento `['auto', 30, 'gasolina'] `de tipo list el cual es mutable, lo cual desencadenará un error de tipo **TypeError**."
      ],
      "metadata": {
        "id": "7mmMal5tYYMl"
      }
    },
    {
      "cell_type": "code",
      "source": [
        "frozenset((False, ['auto', 30, 'gasolina'], 73.12))"
      ],
      "metadata": {
        "id": "VqLkiYl-Ya-U"
      },
      "execution_count": null,
      "outputs": []
    },
    {
      "cell_type": "markdown",
      "source": [
        "La siguiente celda no contiene a una colección sino a una secuencia de elementos, por lo que se desencadenará un error de tipo **TypeError**."
      ],
      "metadata": {
        "id": "9g3xOgQYYdgJ"
      }
    },
    {
      "cell_type": "code",
      "source": [
        "frozenset(False, 'auto', 30, 'gasolina', 73.12)"
      ],
      "metadata": {
        "id": "1WkPJ1zXYfzj"
      },
      "execution_count": null,
      "outputs": []
    }
  ]
}