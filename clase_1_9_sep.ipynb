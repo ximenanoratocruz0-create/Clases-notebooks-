{
  "nbformat": 4,
  "nbformat_minor": 0,
  "metadata": {
    "colab": {
      "provenance": [],
      "authorship_tag": "ABX9TyMX/5gWInfs6/baS8Zjd41Y",
      "include_colab_link": true
    },
    "kernelspec": {
      "name": "python3",
      "display_name": "Python 3"
    },
    "language_info": {
      "name": "python"
    }
  },
  "cells": [
    {
      "cell_type": "markdown",
      "metadata": {
        "id": "view-in-github",
        "colab_type": "text"
      },
      "source": [
        "<a href=\"https://colab.research.google.com/github/ximenanoratocruz0-create/Clases-notebooks-/blob/main/clase_1_9_sep.ipynb\" target=\"_parent\"><img src=\"https://colab.research.google.com/assets/colab-badge.svg\" alt=\"Open In Colab\"/></a>"
      ]
    },
    {
      "cell_type": "markdown",
      "source": [
        "# Palabras Reservadas\n",
        "Las palabras reservadas (kerwords) corresponden a los nombres de las declaraciones que el interprete de Phyton incluye por defecto. No se deben utilizar dichas palabras para asignar nombres a los objetos.\n",
        "\n",
        "El listado de palabras reservadas puede ser consultado ingresando help(\"keywords\") desde la interfaz.\n",
        "\n",
        "Ejemplo:"
      ],
      "metadata": {
        "id": "ZsaQsvhH92F-"
      }
    },
    {
      "cell_type": "code",
      "execution_count": null,
      "metadata": {
        "colab": {
          "base_uri": "https://localhost:8080/"
        },
        "id": "cQHTPJUa8z2h",
        "outputId": "072cd654-b121-4685-986d-5338bc011849"
      },
      "outputs": [
        {
          "output_type": "stream",
          "name": "stdout",
          "text": [
            "\n",
            "Here is a list of the Python keywords.  Enter any keyword to get more help.\n",
            "\n",
            "False               class               from                or\n",
            "None                continue            global              pass\n",
            "True                def                 if                  raise\n",
            "and                 del                 import              return\n",
            "as                  elif                in                  try\n",
            "assert              else                is                  while\n",
            "async               except              lambda              with\n",
            "await               finally             nonlocal            yield\n",
            "break               for                 not                 \n",
            "\n"
          ]
        }
      ],
      "source": [
        "help(\"keywords\")"
      ]
    },
    {
      "cell_type": "markdown",
      "source": [
        "# El espacio de nombres (namespace)\n",
        "El espacio de nombres (namespace) contiene una relación delos objetos existentes en la memoria del sistema y los nombres a los que estan ligados.\n",
        "\n",
        "\n",
        "*   Phyton es un lenguaje de alto nivel en el que todos sus elementos son objetos incluyendo los tipos de datos básicos de tal forma que los terminos \"valor\" y \"objeto\" son sinónimo.\n",
        "*   Si un objeto no esta ligado al menos a un nombre, dicho objeto es desechado por el interprete.\n",
        "\n",
        "\n",
        "*   Un objeto puede tener más de un nombre.\n",
        "\n",
        "\n",
        "# El operador de asignación\n",
        "Para relacionar a un nombre con un objeto, se utiliza el operador = con la siguiente sintaxis:\n",
        "\n",
        "\n",
        "\n",
        "```\n",
        "# Tiene formato de código\n",
        "```\n",
        "**Ejemplos:**\n"
      ],
      "metadata": {
        "id": "iPd7xc3l-wTG"
      }
    },
    {
      "cell_type": "code",
      "source": [
        "Num1 = 10\n",
        "print(Num1)\n",
        "Num2 = 6\n",
        "Num2\n",
        "print(Num2)\n",
        "Num3 = Num1 + Num2\n",
        "print(Num3)\n",
        "Num4 = Num3 + 19\n",
        "Num4\n",
        "Mayor_Edad = True\n",
        "a = 34.56\n",
        "a\n",
        "entero, flotante, complejo, booleano = 12, 4.5, (12.3+23j), True\n",
        "print(complejo)"
      ],
      "metadata": {
        "colab": {
          "base_uri": "https://localhost:8080/"
        },
        "id": "n9kMNfHdBTGX",
        "outputId": "30ffe86b-029e-41ef-f7fd-379b71ab9167"
      },
      "execution_count": null,
      "outputs": [
        {
          "output_type": "stream",
          "name": "stdout",
          "text": [
            "10\n",
            "6\n",
            "16\n",
            "(12.3+23j)\n"
          ]
        }
      ]
    }
  ]
}