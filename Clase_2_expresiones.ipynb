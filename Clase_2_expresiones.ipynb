{
  "nbformat": 4,
  "nbformat_minor": 0,
  "metadata": {
    "colab": {
      "provenance": [],
      "authorship_tag": "ABX9TyMibk1fjpKdBoSTsuVjbfcs",
      "include_colab_link": true
    },
    "kernelspec": {
      "name": "python3",
      "display_name": "Python 3"
    },
    "language_info": {
      "name": "python"
    }
  },
  "cells": [
    {
      "cell_type": "markdown",
      "metadata": {
        "id": "view-in-github",
        "colab_type": "text"
      },
      "source": [
        "<a href=\"https://colab.research.google.com/github/ximenanoratocruz0-create/Clases-notebooks-/blob/main/Clase_2_expresiones.ipynb\" target=\"_parent\"><img src=\"https://colab.research.google.com/assets/colab-badge.svg\" alt=\"Open In Colab\"/></a>"
      ]
    },
    {
      "cell_type": "markdown",
      "source": [
        "# Expresiones y comentarios.\n",
        "### Expresiones.\n",
        "Una expresión es una combinación de nombres, objetos, operadores, funciones y métodos cuya sintaxis es correcta para el interprete de Phyton y que puede dar por resultado un valor.\n",
        "\n",
        "**Ejemplos:**\n",
        "La siguiente celda es una expresión de asignación, la cual liga el nombre numero al objeto 78.3 mediante el operador de asignación=."
      ],
      "metadata": {
        "id": "wWP43i0tBBsp"
      }
    },
    {
      "cell_type": "code",
      "source": [
        "numero = 78.3"
      ],
      "metadata": {
        "id": "aRgvkTYkFj37"
      },
      "execution_count": null,
      "outputs": []
    },
    {
      "cell_type": "markdown",
      "source": [
        "La siguiente es una expresiòn que despliega el objeto relacionado con el nombre `numero`.\n",
        "\n"
      ],
      "metadata": {
        "id": "XOREZZw2zudE"
      }
    },
    {
      "cell_type": "code",
      "source": [
        "numero"
      ],
      "metadata": {
        "colab": {
          "base_uri": "https://localhost:8080/"
        },
        "id": "Bf0y4ZX5zzvC",
        "outputId": "52094db7-5cf3-4b81-a5b3-8e86b3759a8a"
      },
      "execution_count": 5,
      "outputs": [
        {
          "output_type": "execute_result",
          "data": {
            "text/plain": [
              "78.3"
            ]
          },
          "metadata": {},
          "execution_count": 5
        }
      ]
    },
    {
      "cell_type": "markdown",
      "source": [
        "La siguiente es una expresion aritmetica que implica valores numericos y el operador.\n",
        "\n"
      ],
      "metadata": {
        "id": "xzGphubBz4et"
      }
    },
    {
      "cell_type": "code",
      "source": [
        "1+1"
      ],
      "metadata": {
        "colab": {
          "base_uri": "https://localhost:8080/"
        },
        "id": "thpGH89oz8RP",
        "outputId": "20f07815-c53f-4475-80ff-86efb16822d0"
      },
      "execution_count": 6,
      "outputs": [
        {
          "output_type": "execute_result",
          "data": {
            "text/plain": [
              "2"
            ]
          },
          "metadata": {},
          "execution_count": 6
        }
      ]
    },
    {
      "cell_type": "markdown",
      "source": [
        "La siguiente es una expresion de relacion que evalua si 20 es mayor o igual a 10 usando el operador `>=`"
      ],
      "metadata": {
        "id": "tgbG7a0A0ED8"
      }
    },
    {
      "cell_type": "code",
      "source": [
        "20>=10"
      ],
      "metadata": {
        "colab": {
          "base_uri": "https://localhost:8080/"
        },
        "id": "kXlq-V9v1AbG",
        "outputId": "6dfc999f-115b-4f91-ea4d-a0e8e9c66144"
      },
      "execution_count": 7,
      "outputs": [
        {
          "output_type": "execute_result",
          "data": {
            "text/plain": [
              "True"
            ]
          },
          "metadata": {},
          "execution_count": 7
        }
      ]
    },
    {
      "cell_type": "markdown",
      "source": [
        "La siguiente expresión ejecuta el metodo `upper()`, propio de los objetos tipo `str` mediante el operador de atributo. En este caso, convierte todas las letras del texto en mayúsculas."
      ],
      "metadata": {
        "id": "cdrTW4vK1HYb"
      }
    },
    {
      "cell_type": "code",
      "source": [
        "\"carrot\".upper()"
      ],
      "metadata": {
        "colab": {
          "base_uri": "https://localhost:8080/",
          "height": 36
        },
        "id": "T0C5Ipak1QH5",
        "outputId": "28d79c87-edff-4a37-efdb-8ba7ba718c70"
      },
      "execution_count": 8,
      "outputs": [
        {
          "output_type": "execute_result",
          "data": {
            "text/plain": [
              "'CARROT'"
            ],
            "application/vnd.google.colaboratory.intrinsic+json": {
              "type": "string"
            }
          },
          "metadata": {},
          "execution_count": 8
        }
      ]
    },
    {
      "cell_type": "markdown",
      "source": [
        "La siguiente celda ejecuta una expresion que invoca a la funcion `len()`"
      ],
      "metadata": {
        "id": "9mqd6g1b1Wqq"
      }
    },
    {
      "cell_type": "code",
      "source": [
        "len('trescientos')"
      ],
      "metadata": {
        "colab": {
          "base_uri": "https://localhost:8080/"
        },
        "id": "j80OOlZu1bkb",
        "outputId": "767e5a64-34e6-47bb-c253-ab2d51f5cbbd"
      },
      "execution_count": 9,
      "outputs": [
        {
          "output_type": "execute_result",
          "data": {
            "text/plain": [
              "11"
            ]
          },
          "metadata": {},
          "execution_count": 9
        }
      ]
    },
    {
      "cell_type": "markdown",
      "source": [
        "# Ejecucion de varias expresiones en una sola linea\n",
        "El interprete de Phyton permite ejecutar multiples expresiones en una sola linea, denotando el final de una expresion usando el signo de punto y coma ;\n",
        "\n",
        "Al usar esta sintaxis, el interprete solo desplegara el resultado de la ultima expresion ejecutada\n",
        "\n",
        "**Ejemplos:** A continuaciòn se ejecutaran varias expresiones en una sola linea. Todas las expresiones se ejecutaron, pero solo la ultima sera desplegada."
      ],
      "metadata": {
        "id": "SV8RtuSx1jer"
      }
    },
    {
      "cell_type": "code",
      "source": [
        "a=3; \"hola\".upper(); a+5"
      ],
      "metadata": {
        "colab": {
          "base_uri": "https://localhost:8080/"
        },
        "id": "1L61IejV1wzm",
        "outputId": "073e0628-3b32-4cdf-9fc9-4a494625f9e2"
      },
      "execution_count": 10,
      "outputs": [
        {
          "output_type": "execute_result",
          "data": {
            "text/plain": [
              "8"
            ]
          },
          "metadata": {},
          "execution_count": 10
        }
      ]
    },
    {
      "cell_type": "markdown",
      "source": [
        "Si la ultima expresion tambien termina con un punto y coma, tampoco sera desplegada."
      ],
      "metadata": {
        "id": "MLNOIvFA13AK"
      }
    },
    {
      "cell_type": "code",
      "source": [
        "a += 11; \"amigos\" * 3; a==1;"
      ],
      "metadata": {
        "id": "4ecRkXUP15L1"
      },
      "execution_count": null,
      "outputs": []
    },
    {
      "cell_type": "markdown",
      "source": [
        "**Advertencia:** No se recomienda usar este recurso ya que se corre el riesgo de ofuscar el codigo innecesariamente.\n",
        "\n",
        "Expresiones en el entorno interactivo. La interfaz interactiva evalua las expresiones tan pronto como son ingresadas y en su caso despliega el resultado.\n",
        "\n",
        "**Ejemplos:**\n",
        "\n",
        "Las siguientes celdas contienen varias expresiones cuyo resultado sera desplegado por el interprete de Phyton."
      ],
      "metadata": {
        "id": "o2ZpcV4Y2BjW"
      }
    },
    {
      "cell_type": "code",
      "source": [
        "4*3"
      ],
      "metadata": {
        "colab": {
          "base_uri": "https://localhost:8080/"
        },
        "id": "8eI1DILZ2Gu8",
        "outputId": "09e3b328-3d18-4a42-854b-e26080e42331"
      },
      "execution_count": 11,
      "outputs": [
        {
          "output_type": "execute_result",
          "data": {
            "text/plain": [
              "12"
            ]
          },
          "metadata": {},
          "execution_count": 11
        }
      ]
    },
    {
      "cell_type": "code",
      "source": [
        "15== 25"
      ],
      "metadata": {
        "colab": {
          "base_uri": "https://localhost:8080/"
        },
        "id": "3kUguo0U2KDd",
        "outputId": "ad84db80-f577-4c04-d1fe-4aa57c46a8b6"
      },
      "execution_count": 12,
      "outputs": [
        {
          "output_type": "execute_result",
          "data": {
            "text/plain": [
              "False"
            ]
          },
          "metadata": {},
          "execution_count": 12
        }
      ]
    },
    {
      "cell_type": "markdown",
      "source": [
        "**Comentarios:** Los comentarios son porciones de texto que aun cuando se encuentran dentro de un bloque de codigo, no son interpretados por Phyton y sirven primordialmente para documentar el codigo.\n",
        "\n",
        "Comentarios de una sola linea. Cualquier texto despues del caracter # y hasta el final de las lineas es considerado como un comentario.\n",
        "\n",
        "**Ejemplo:**"
      ],
      "metadata": {
        "id": "jonHrula2Mn1"
      }
    },
    {
      "cell_type": "code",
      "source": [
        "15 + 23 # El resultado es 38"
      ],
      "metadata": {
        "colab": {
          "base_uri": "https://localhost:8080/"
        },
        "id": "MPZ6vWjL2TdT",
        "outputId": "c369a85b-42d3-4a92-86e4-25fafbac1473"
      },
      "execution_count": 13,
      "outputs": [
        {
          "output_type": "execute_result",
          "data": {
            "text/plain": [
              "38"
            ]
          },
          "metadata": {},
          "execution_count": 13
        }
      ]
    },
    {
      "cell_type": "markdown",
      "source": [
        "# **Docstrings**\n",
        "Phyton tambien permite incluir comentarios de varias lineas. Estos deben de estar encerrados entre triples comillas \"\"\" o entre triples apostrofes '''.\n",
        "\n",
        "Este tipo de comentarios son conocidos como **\"docstrings\"** y son utilizados para generar documentacion que se desplegara mediante la funcion `help()`.\n",
        "\n",
        "La siguiente celda define una funcion con nombre `funcion()`, la cual incluye un docstring al principio y otro al final."
      ],
      "metadata": {
        "id": "S1l4l2YX2Y1u"
      }
    },
    {
      "cell_type": "code",
      "source": [
        "def funcion():\n",
        "    \"\"\"Ejemplo del uso de una docstring.\n",
        "    En este caso se utiliza para documentar una funcion.\"\"\"\n",
        "    print(\"Hola\")\n",
        "    \"\"\"Este es otro docstring\n",
        "    No formara parte de la documentacion.\"\"\""
      ],
      "metadata": {
        "id": "MkKaFre-5tvx"
      },
      "execution_count": null,
      "outputs": []
    },
    {
      "cell_type": "markdown",
      "source": [
        "Una vez que fue definida la funcion `funcion()`, el primer dosctring serà parte de la documentacion.\n",
        "\n"
      ],
      "metadata": {
        "id": "tMa6mKqd25Vh"
      }
    },
    {
      "cell_type": "code",
      "source": [
        "\n",
        "help(funcion)"
      ],
      "metadata": {
        "colab": {
          "base_uri": "https://localhost:8080/"
        },
        "id": "CeMOSCPi5OD3",
        "outputId": "a893f486-28d8-41c9-eedc-c59b579feae6"
      },
      "execution_count": 30,
      "outputs": [
        {
          "output_type": "stream",
          "name": "stdout",
          "text": [
            "Help on function funcion in module __main__:\n",
            "\n",
            "funcion()\n",
            "    Ejemplo del uso de una docstring.\n",
            "    En este caso se utiliza para documentar una funcion.\n",
            "\n"
          ]
        }
      ]
    }
  ]
}