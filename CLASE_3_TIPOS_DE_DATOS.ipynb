{
  "nbformat": 4,
  "nbformat_minor": 0,
  "metadata": {
    "colab": {
      "provenance": [],
      "authorship_tag": "ABX9TyPXJaV9Icn25RpxA16YL2Kv",
      "include_colab_link": true
    },
    "kernelspec": {
      "name": "python3",
      "display_name": "Python 3"
    },
    "language_info": {
      "name": "python"
    }
  },
  "cells": [
    {
      "cell_type": "markdown",
      "metadata": {
        "id": "view-in-github",
        "colab_type": "text"
      },
      "source": [
        "<a href=\"https://colab.research.google.com/github/ximenanoratocruz0-create/Clases-notebooks-/blob/main/CLASE_3_TIPOS_DE_DATOS.ipynb\" target=\"_parent\"><img src=\"https://colab.research.google.com/assets/colab-badge.svg\" alt=\"Open In Colab\"/></a>"
      ]
    },
    {
      "cell_type": "code",
      "execution_count": null,
      "metadata": {
        "id": "RNg0MDI7zyct"
      },
      "outputs": [],
      "source": []
    },
    {
      "cell_type": "markdown",
      "source": [
        "# **Tipos de datos.**\n",
        "\n",
        "Python ha evolucionado para ofrecer poderosos tipos de datos que lo diferencian de otros lenguajes de programación por su sencillez y flexibilidad.\n",
        "\n",
        "Aún cuando Python cuenta con una amplia biblioteca que incluye muy diversos tipos de datos, ofrece ciertos tipos básicos.\n",
        "\n",
        "## Particularidades los tipos de datos en Python.\n",
        "\n",
        "**Tipos dinámicos.**\n",
        "\n",
        "Python es un lenguaje que no requiere que se defina el tipo de un objeto. El intérprete \"infiere\" el tipo de dato del que se trata.\n",
        "\n",
        "**Fuertemente tipado.**\n",
        "\n",
        "Existen operaciones que no están permitidas entre tipos que no sean compatibles.\n",
        "\n",
        "**Los tipos son clases.**\n",
        "\n",
        "En Python todos sus elementos son objetos y los datos una vez identificados, se convierten en objetos instanciados del tipo al que pertenecen.\n",
        "\n",
        "**Tabla de tipos de datos básicos de Python 3.**\n",
        "\n",
        " La siguiente tabla resume y describe los tipos de datos básicos de Python 3."
      ],
      "metadata": {
        "id": "ps2IwU_Ez9YV"
      }
    },
    {
      "cell_type": "markdown",
      "source": [
        "Así se define al numero 24 en sistema decimal"
      ],
      "metadata": {
        "id": "YRc2OMv-0NGI"
      }
    },
    {
      "cell_type": "code",
      "source": [
        "24"
      ],
      "metadata": {
        "id": "L1jtSFri0akk"
      },
      "execution_count": null,
      "outputs": []
    },
    {
      "cell_type": "code",
      "source": [
        "0b10001011"
      ],
      "metadata": {
        "id": "MXxURB4l0b0P"
      },
      "execution_count": null,
      "outputs": []
    },
    {
      "cell_type": "markdown",
      "source": [
        "La siguiente celda define al número 1522 en formato hexadecimal."
      ],
      "metadata": {
        "id": "k08RCVjt0exv"
      }
    },
    {
      "cell_type": "code",
      "source": [
        "0x5f2"
      ],
      "metadata": {
        "id": "DNs8LuIQ0kGs"
      },
      "execution_count": null,
      "outputs": []
    },
    {
      "cell_type": "markdown",
      "source": [
        "La siguiente celda define al número 159 en formato octal."
      ],
      "metadata": {
        "id": "dNyeuGox0l2n"
      }
    },
    {
      "cell_type": "code",
      "source": [
        "0o237"
      ],
      "metadata": {
        "id": "mGvRLyGQ0s_U"
      },
      "execution_count": null,
      "outputs": []
    },
    {
      "cell_type": "markdown",
      "source": [
        "**Números de punto flotante (float).**\n",
        "\n",
        "Los objetos tipo float corresponden al conjunto de los números reales.\n",
        "\n",
        "**Ejemplos:**\n",
        "\n",
        "3.141595\n",
        "\n",
        "12.\n",
        "\n",
        "-45.3556\n",
        "\n",
        "**Precisión de los números flotantes.**\n",
        "\n",
        "Hay que tomar en cuenta de que la precisión de los números dependen en gran medida de la capacidad del equipo de cómputo, por lo que en ocasiones una operación con números de tipo float no dará el resultado exacto, sino una aproximación.\n",
        "\n",
        "# Ejemplo:\n",
        "\n",
        "La siguiente expresión da por resultado un número racional que corresponde a una suceción infinita del dígito 6 después del punto decimal."
      ],
      "metadata": {
        "id": "CIu1Hzxk0utX"
      }
    },
    {
      "cell_type": "code",
      "source": [
        "2/3"
      ],
      "metadata": {
        "id": "CPmqAck80zIE"
      },
      "execution_count": null,
      "outputs": []
    },
    {
      "cell_type": "markdown",
      "source": [
        "En este caso, es imposible para Python calcular una sucesión infinita de 6 y por ende truncó el número a 16 decimales.\n",
        "\n",
        "**Números complejos (complex).**\n",
        "\n",
        "Los objetos de tipo complex corresponden al conjunto de los números complejos.\n",
        "\n",
        "Siempre que el componente en los números reales sea distinto de 0, los objetos de tipo complex se expresarán como un par de números de tipo float separados por el operador de adición +, en el que el primer número corresponde al componente en los números reales y el componente en los números imaginarios es identificado añadiéndole la letra j al final.\n",
        "\n",
        "La sintaxis estricta es la siguiente:\n",
        "\n",
        "\n",
        "Cuando el componente imagionario es postivo.\n",
        "`(<real>+<imaginario>j)`\n",
        "\n",
        "Cuando el componente imaginario es negativo.\n",
        "`(<real>-<imaginario>j)`\n",
        "\n",
        "Cuando el componente real es igual a 0.\n",
        "\n",
        "`<imaginario>j`\n",
        "\n",
        "**Ejemplos:**\n",
        "\n",
        "La siguiente celda muestra la forma estricta en la que se define un objeto tipo **complex.**"
      ],
      "metadata": {
        "id": "cQ6unk0o04D-"
      }
    },
    {
      "cell_type": "code",
      "source": [
        "(2+5j)"
      ],
      "metadata": {
        "id": "TIIAQ9eM0-Gh"
      },
      "execution_count": null,
      "outputs": []
    },
    {
      "cell_type": "markdown",
      "source": [
        "Las siguientes expresiones implican operaciones aritméticas con números imaginario, las cuales dan por resultado objetos tipo complex."
      ],
      "metadata": {
        "id": "lzEjPi4r1AyY"
      }
    },
    {
      "cell_type": "code",
      "source": [
        "1.323 - 1j"
      ],
      "metadata": {
        "id": "Ri533AH31M0Q"
      },
      "execution_count": null,
      "outputs": []
    },
    {
      "cell_type": "code",
      "source": [
        "-2.9j - 23.03"
      ],
      "metadata": {
        "id": "EQC3VtHf1Puf"
      },
      "execution_count": null,
      "outputs": []
    },
    {
      "cell_type": "code",
      "source": [
        "12.4 + 0j"
      ],
      "metadata": {
        "id": "YoR5je0r1R6E"
      },
      "execution_count": null,
      "outputs": []
    },
    {
      "cell_type": "markdown",
      "source": [
        "En caso de que sólo se defina el componente imaginario, el resultado sólo será este componente.\n"
      ],
      "metadata": {
        "id": "KJh59V-L1VTJ"
      }
    },
    {
      "cell_type": "code",
      "source": [
        "15j"
      ],
      "metadata": {
        "id": "L4cCDTZ01XnU"
      },
      "execution_count": null,
      "outputs": []
    },
    {
      "cell_type": "markdown",
      "source": [
        "**Valores booleanos (bool).**\n",
        "\n",
        "\n",
        "\n",
        "\n",
        "\n",
        "El tipo bool es una especie de tipo numérico que es utilizado para evaluar expresiones lógicas y tiene dos valores: **True** y **False**.\n",
        "\n",
        "*   Si la expresión lógica es cierta, el resultado es True.\n",
        "\n",
        "*   Si la expresión lógica NO es cierta, el resultado es False.\n",
        "El tipo bool es una especie de tipo numérico\n",
        "\n",
        "*   False equivale numéricamente a **0**.\n",
        "\n",
        "*   Cualquier otro valor no vacío equivale a True y su valor por defecto es **1**.\n"
      ],
      "metadata": {
        "id": "_k2jj2CE1YXG"
      }
    },
    {
      "cell_type": "code",
      "source": [
        "True"
      ],
      "metadata": {
        "id": "wvD2vLYJ1bdA"
      },
      "execution_count": null,
      "outputs": []
    },
    {
      "cell_type": "code",
      "source": [
        "False"
      ],
      "metadata": {
        "id": "7meY8Hc41dBx"
      },
      "execution_count": null,
      "outputs": []
    },
    {
      "cell_type": "markdown",
      "source": [
        "**NoneType.**\n",
        "\n",
        "El único objeto de este tipo es None y representa un valor nulo.\n",
        "\n",
        "Una expresión que dé por resultado None no es desplegado por el intérprete.\n",
        "\n",
        " **Ejemplo:**\n",
        "\n",
        "La siguiente celda incluye al objeto None, pero al ejecutarla, no se despliega nada."
      ],
      "metadata": {
        "id": "ciba8jqy1eFv"
      }
    },
    {
      "cell_type": "code",
      "source": [
        "None"
      ],
      "metadata": {
        "id": "6srkiDpv1k2E"
      },
      "execution_count": null,
      "outputs": []
    }
  ]
}