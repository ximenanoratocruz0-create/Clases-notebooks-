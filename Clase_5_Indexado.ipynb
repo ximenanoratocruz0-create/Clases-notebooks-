{
  "nbformat": 4,
  "nbformat_minor": 0,
  "metadata": {
    "colab": {
      "provenance": [],
      "authorship_tag": "ABX9TyMhfbDHd6/BRt3ORFMI8u5+",
      "include_colab_link": true
    },
    "kernelspec": {
      "name": "python3",
      "display_name": "Python 3"
    },
    "language_info": {
      "name": "python"
    }
  },
  "cells": [
    {
      "cell_type": "markdown",
      "metadata": {
        "id": "view-in-github",
        "colab_type": "text"
      },
      "source": [
        "<a href=\"https://colab.research.google.com/github/ximenanoratocruz0-create/Clases-notebooks-/blob/main/Clase_5_Indexado.ipynb\" target=\"_parent\"><img src=\"https://colab.research.google.com/assets/colab-badge.svg\" alt=\"Open In Colab\"/></a>"
      ]
    },
    {
      "cell_type": "markdown",
      "source": [
        "# Indexado de colecciones.\n",
        "\n",
        "Los siguientes tipos de colecciones permiten identificar a uno o a un rango de elementos mediante un índice.\n",
        "\n",
        "\n",
        "*   str.\n",
        "*   bytes.\n",
        "*   bytearray.\n",
        "*   list.\n",
        "*   tuple.\n",
        "*   dict.\n",
        "\n",
        "\n",
        "\n",
        "Dependiendo del tipo de colección, el índice puede ser un número entero, un rango numérico o una clave. El índice se denota delimitándolo entre corchetes [ ] y colocándolo a la derecha del objeto del cual se extraerá el o los elemento.\n",
        "\n",
        "La sintaxis es la siguiente:\n",
        "\n",
        "```\n",
        "<colección>[<número entero, clave o rango>]\n",
        "```\n",
        "\n",
        "## Indexado numérico.\n",
        "\n",
        "Los tipos con indexado numérico identifican a cada elemento que contienen mediante un número entero de 2 formas:\n",
        "\n",
        "índices no negativos: En los que el primer elemento del extremo izquierdo tiene el índice 0, el elemento a su derecha tiene el índice 1 y así sucesivamente en incrementos de uno en uno hasta llegar al elemento del extremo derecho.\n",
        "Índices negativos: En los que el primer elemento del extremo derecho tiene el índice -1, el elemento a su izquierda tiene el índice -2 y así sucesivamente en decrementos de uno en uno hasta llegar al elemento del extremo izquierdo.\n",
        "Este tipo de indexado es propio de los tipos:\n",
        "\n",
        "\n",
        "\n",
        "```\n",
        "str.\n",
        "bytes.\n",
        "bytearray.\n",
        "list.\n",
        "tuple.\n",
        "\n",
        "```\n",
        "\n",
        "\n",
        "\n",
        "\n",
        "Si el índice sobrepasa el tamaño del objeto, se desencadenará un error de tipo **IndexError**.\n",
        "\n",
        "**Ejemplos:**\n",
        "\n",
        "La siguiente celda obtendrá el caracter **'l'** del objeto **'saludo'**, cuyo índice corresponde al índice 2."
      ],
      "metadata": {
        "id": "SdGJIKHZ2Rx9"
      }
    },
    {
      "cell_type": "code",
      "source": [
        "\"Saludo\"[1]"
      ],
      "metadata": {
        "colab": {
          "base_uri": "https://localhost:8080/",
          "height": 36
        },
        "id": "vajqZqJH2ZRf",
        "outputId": "a7192891-9fa0-4e4a-8d75-14a660a0c528"
      },
      "execution_count": 1,
      "outputs": [
        {
          "output_type": "execute_result",
          "data": {
            "text/plain": [
              "'a'"
            ],
            "application/vnd.google.colaboratory.intrinsic+json": {
              "type": "string"
            }
          },
          "metadata": {},
          "execution_count": 1
        }
      ]
    },
    {
      "cell_type": "markdown",
      "source": [
        "La siguiente celda obtendrá el número **108**, a partir del objeto b'saludo'. Dicho número corresponde al valor del caracter l en la tabla de código **ASCII**. El índice corresponde al índice **-4**."
      ],
      "metadata": {
        "id": "xxrTnLUc2gOP"
      }
    },
    {
      "cell_type": "code",
      "source": [
        "b'saludo'[1]"
      ],
      "metadata": {
        "colab": {
          "base_uri": "https://localhost:8080/"
        },
        "id": "gkj_-ebu2jUL",
        "outputId": "7b8e2041-c2a4-4abe-f09b-cf99f8ab3155"
      },
      "execution_count": 2,
      "outputs": [
        {
          "output_type": "execute_result",
          "data": {
            "text/plain": [
              "97"
            ]
          },
          "metadata": {},
          "execution_count": 2
        }
      ]
    },
    {
      "cell_type": "markdown",
      "source": [
        "La siguiente celda pide un índice fuera de rango y desecadenará un error de tipo ***IndexError.***"
      ],
      "metadata": {
        "id": "QTBfXaA32nre"
      }
    },
    {
      "cell_type": "code",
      "source": [
        "'saludo'[10]"
      ],
      "metadata": {
        "colab": {
          "base_uri": "https://localhost:8080/",
          "height": 141
        },
        "id": "BaK8-j5A2qSY",
        "outputId": "2218a471-0a2f-4521-a321-7e458a26522c"
      },
      "execution_count": 3,
      "outputs": [
        {
          "output_type": "error",
          "ename": "IndexError",
          "evalue": "string index out of range",
          "traceback": [
            "\u001b[0;31m---------------------------------------------------------------------------\u001b[0m",
            "\u001b[0;31mIndexError\u001b[0m                                Traceback (most recent call last)",
            "\u001b[0;32m/tmp/ipython-input-843877675.py\u001b[0m in \u001b[0;36m<cell line: 0>\u001b[0;34m()\u001b[0m\n\u001b[0;32m----> 1\u001b[0;31m \u001b[0;34m'saludo'\u001b[0m\u001b[0;34m[\u001b[0m\u001b[0;36m10\u001b[0m\u001b[0;34m]\u001b[0m\u001b[0;34m\u001b[0m\u001b[0;34m\u001b[0m\u001b[0m\n\u001b[0m",
            "\u001b[0;31mIndexError\u001b[0m: string index out of range"
          ]
        }
      ]
    },
    {
      "cell_type": "markdown",
      "source": [
        "La siguientes celdas ejemplificarán el uso del indexado numérico en objetos tipo **list** al que se le asignará el nombre lista."
      ],
      "metadata": {
        "id": "Q4AjLdHH2tjK"
      }
    },
    {
      "cell_type": "code",
      "source": [
        "lista = [1, 2, 3, 4]; type(lista)"
      ],
      "metadata": {
        "colab": {
          "base_uri": "https://localhost:8080/"
        },
        "id": "CvYIAlgT2wN6",
        "outputId": "cc41796a-f8c8-4639-f666-0f57a0eae987"
      },
      "execution_count": 4,
      "outputs": [
        {
          "output_type": "execute_result",
          "data": {
            "text/plain": [
              "list"
            ]
          },
          "metadata": {},
          "execution_count": 4
        }
      ]
    },
    {
      "cell_type": "markdown",
      "source": [
        "La siguiente celda regresará al objeto **2** cuyo índice es **1**."
      ],
      "metadata": {
        "id": "RB9mKyyq2zis"
      }
    },
    {
      "cell_type": "code",
      "source": [
        "lista[-3]"
      ],
      "metadata": {
        "colab": {
          "base_uri": "https://localhost:8080/"
        },
        "id": "pZN6JPt321aa",
        "outputId": "68c90769-2c4a-45da-864d-5d9ced0b1de1"
      },
      "execution_count": 5,
      "outputs": [
        {
          "output_type": "execute_result",
          "data": {
            "text/plain": [
              "2"
            ]
          },
          "metadata": {},
          "execution_count": 5
        }
      ]
    },
    {
      "cell_type": "markdown",
      "source": [
        "La siguiente celda regresará al objeto **1** cuyo índice es **-4**."
      ],
      "metadata": {
        "id": "A32riDtY24Fx"
      }
    },
    {
      "cell_type": "code",
      "source": [
        "lista[-4]"
      ],
      "metadata": {
        "colab": {
          "base_uri": "https://localhost:8080/"
        },
        "id": "n-ddZuwN27lV",
        "outputId": "6a0cb10f-e887-49cb-a98f-54c2945ffa73"
      },
      "execution_count": 6,
      "outputs": [
        {
          "output_type": "execute_result",
          "data": {
            "text/plain": [
              "1"
            ]
          },
          "metadata": {},
          "execution_count": 6
        }
      ]
    },
    {
      "cell_type": "markdown",
      "source": [
        "La siguientes celdas ejemplifican el uso del\n",
        "indexado numérico en objetos tipo tuple al que se le asignará el nombre tupla."
      ],
      "metadata": {
        "id": "5M4LV51W2965"
      }
    },
    {
      "cell_type": "code",
      "source": [
        "tupla = (1, [4, True, None, 'Saludo'], 6, 22.5)"
      ],
      "metadata": {
        "id": "kq8DH9-C3AfR"
      },
      "execution_count": 8,
      "outputs": []
    },
    {
      "cell_type": "markdown",
      "source": [
        "La siguientes celda regresará al objeto **4**, el cual corresponde al índice 0 del objeto tupla."
      ],
      "metadata": {
        "id": "hpjm2nR33EEt"
      }
    },
    {
      "cell_type": "code",
      "source": [
        "tupla[1][0]"
      ],
      "metadata": {
        "colab": {
          "base_uri": "https://localhost:8080/"
        },
        "id": "u5Oorkyq3GXG",
        "outputId": "03320f38-3c06-41f4-b7e3-f4e13105d85e"
      },
      "execution_count": 10,
      "outputs": [
        {
          "output_type": "execute_result",
          "data": {
            "text/plain": [
              "4"
            ]
          },
          "metadata": {},
          "execution_count": 10
        }
      ]
    },
    {
      "cell_type": "markdown",
      "source": [],
      "metadata": {
        "id": "U3RP38Ju3RBx"
      }
    },
    {
      "cell_type": "markdown",
      "source": [
        "La siguientes celda regresará al objeto`[4, True, None, 'Saludo']`, el cual corresponde al índice *-3* del objeto ***tupla***."
      ],
      "metadata": {
        "id": "0G9ASaio3Ire"
      }
    },
    {
      "cell_type": "code",
      "source": [
        "tupla[-3]"
      ],
      "metadata": {
        "colab": {
          "base_uri": "https://localhost:8080/"
        },
        "id": "TIzyhHqS3LBX",
        "outputId": "7e53d134-aa5c-44ba-c6a2-3db7c65f6e08"
      },
      "execution_count": 9,
      "outputs": [
        {
          "output_type": "execute_result",
          "data": {
            "text/plain": [
              "[4, True, None, 'Saludo']"
            ]
          },
          "metadata": {},
          "execution_count": 9
        }
      ]
    },
    {
      "cell_type": "markdown",
      "source": [
        "La siguientes celdas ejemplifican el uso del indexado numérico en objetos tipo `**bytearray**` al que se le asignará el nombre arreglo creado a partir de **b'saludo'**."
      ],
      "metadata": {
        "id": "T_2HUjvL3UxH"
      }
    },
    {
      "cell_type": "code",
      "source": [
        "tupla[-3][0]"
      ],
      "metadata": {
        "colab": {
          "base_uri": "https://localhost:8080/"
        },
        "id": "Qi-QXuvH3Vs9",
        "outputId": "c2de7af5-00fc-4e9c-fa5d-d8c35e735f07"
      },
      "execution_count": 11,
      "outputs": [
        {
          "output_type": "execute_result",
          "data": {
            "text/plain": [
              "4"
            ]
          },
          "metadata": {},
          "execution_count": 11
        }
      ]
    },
    {
      "cell_type": "code",
      "source": [
        "arreglo = bytearray(b'saludo')"
      ],
      "metadata": {
        "id": "XMc-gFoG3Xj2"
      },
      "execution_count": 12,
      "outputs": []
    },
    {
      "cell_type": "markdown",
      "source": [
        "La siguiente celda obtendrá el número **117**, a partir del objeto arreglo. Dicho número corresponde al valor del caracter u en la tabla de código **ASCII**, correspondiente al índice 3."
      ],
      "metadata": {
        "id": "ODAeUT7a3aX_"
      }
    },
    {
      "cell_type": "code",
      "source": [
        "arreglo[3]"
      ],
      "metadata": {
        "colab": {
          "base_uri": "https://localhost:8080/"
        },
        "id": "Qpo8ueiT3fQ-",
        "outputId": "f209c337-74e2-4615-fca2-fd1dc74cb344"
      },
      "execution_count": 13,
      "outputs": [
        {
          "output_type": "execute_result",
          "data": {
            "text/plain": [
              "117"
            ]
          },
          "metadata": {},
          "execution_count": 13
        }
      ]
    },
    {
      "cell_type": "markdown",
      "source": [
        "## **Indexado mediante la clave en los objetos de tipo dict.**\n",
        "\n",
        "\n",
        "Los objetos de tipo ***dict*** no cuentan con índices numéricos. En su defecto, es posible obtener un valor mediante su clave correspondiente.\n",
        "\n",
        "`<objeto dict>[<clave>]`\n",
        "\n",
        "Si la clave que se ingresa no existe, se desencadenará un error de tipo **KeyError**.\n",
        "\n",
        "**Ejemplo:**\n",
        "\n",
        "La siguiente celda definirá al objeto persona, el cual contiene las claves:\n",
        "\n",
        "\n",
        "*   'nombre'.\n",
        "*   'primer apellido'.\n",
        "*   'promedio'.\n",
        "*   True."
      ],
      "metadata": {
        "id": "4JK2bSpT3hzc"
      }
    },
    {
      "cell_type": "code",
      "source": [
        "persona = {'nombre': 'Juan', 'primer apellido': 'Pérez', 'promedio':7.8, True:'V'}"
      ],
      "metadata": {
        "id": "iaDYUSw03miD"
      },
      "execution_count": 14,
      "outputs": []
    },
    {
      "cell_type": "markdown",
      "source": [
        "La siguiente celda regresará el objeto **7.8** correspondiente a la clave **'promedio'** del objeto persona."
      ],
      "metadata": {
        "id": "e1nTWavo3sfS"
      }
    },
    {
      "cell_type": "code",
      "source": [
        "persona['nombre']"
      ],
      "metadata": {
        "colab": {
          "base_uri": "https://localhost:8080/",
          "height": 36
        },
        "id": "sb23P_SN3ul-",
        "outputId": "59d01649-6f34-4ce6-cf85-43243f11b211"
      },
      "execution_count": 15,
      "outputs": [
        {
          "output_type": "execute_result",
          "data": {
            "text/plain": [
              "'Juan'"
            ],
            "application/vnd.google.colaboratory.intrinsic+json": {
              "type": "string"
            }
          },
          "metadata": {},
          "execution_count": 15
        }
      ]
    },
    {
      "cell_type": "markdown",
      "source": [
        "La siguiente celda regresará el objeto **'V'** correspondiente a la clave ***True*** del objeto persona."
      ],
      "metadata": {
        "id": "mpfuFzOd32i3"
      }
    },
    {
      "cell_type": "code",
      "source": [
        "persona[True]"
      ],
      "metadata": {
        "colab": {
          "base_uri": "https://localhost:8080/",
          "height": 36
        },
        "id": "oezClW5L366t",
        "outputId": "3f1e898d-35b9-44f9-ad4d-c8805615f48a"
      },
      "execution_count": 16,
      "outputs": [
        {
          "output_type": "execute_result",
          "data": {
            "text/plain": [
              "'V'"
            ],
            "application/vnd.google.colaboratory.intrinsic+json": {
              "type": "string"
            }
          },
          "metadata": {},
          "execution_count": 16
        }
      ]
    },
    {
      "cell_type": "markdown",
      "source": [
        "La siguiente celda hace referencia a la clave **'indefinido'**, la cual no existe en el objeto persona lo que desencdenará unn error de tipo **KeyError**."
      ],
      "metadata": {
        "id": "0SKl4gdp39gK"
      }
    },
    {
      "cell_type": "code",
      "source": [
        "persona['indefinido']"
      ],
      "metadata": {
        "colab": {
          "base_uri": "https://localhost:8080/",
          "height": 141
        },
        "id": "0_z-6tyF4AzM",
        "outputId": "9b00e2e5-38ef-42cb-cb7d-c9f85246cf0f"
      },
      "execution_count": 17,
      "outputs": [
        {
          "output_type": "error",
          "ename": "KeyError",
          "evalue": "'indefinido'",
          "traceback": [
            "\u001b[0;31m---------------------------------------------------------------------------\u001b[0m",
            "\u001b[0;31mKeyError\u001b[0m                                  Traceback (most recent call last)",
            "\u001b[0;32m/tmp/ipython-input-1855316246.py\u001b[0m in \u001b[0;36m<cell line: 0>\u001b[0;34m()\u001b[0m\n\u001b[0;32m----> 1\u001b[0;31m \u001b[0mpersona\u001b[0m\u001b[0;34m[\u001b[0m\u001b[0;34m'indefinido'\u001b[0m\u001b[0;34m]\u001b[0m\u001b[0;34m\u001b[0m\u001b[0;34m\u001b[0m\u001b[0m\n\u001b[0m",
            "\u001b[0;31mKeyError\u001b[0m: 'indefinido'"
          ]
        }
      ]
    },
    {
      "cell_type": "markdown",
      "source": [
        "## Indíces anidados.\n",
        "\n",
        "En el caso de que un elemento seleccionado dentro de una colección indexables también sea una colección indexable, es posible realizar una indexación anidada colocando el índice a la derecha del índice superior.\n",
        "\n",
        "`<colección>[<índice 1>][<índice 2>]...[<índice n>]`\n",
        "\n",
        "\n",
        "**Ejemplos:**\n",
        "\n",
        "A continuación se definirá a un objeto de tipo ***tuple*** con el nombre tupla el cual contiene a un elemento de tipo ***list*** en el índice 1, el cual a su vez contiene a un elemento de tipo ***str*** en su índice 3."
      ],
      "metadata": {
        "id": "ipudQKDF4Dxj"
      }
    },
    {
      "cell_type": "code",
      "source": [
        "tupla = (1, [4, True, None, 'Saludo'], 6, 22.5)"
      ],
      "metadata": {
        "id": "p17tOUnj4GkJ"
      },
      "execution_count": null,
      "outputs": []
    },
    {
      "cell_type": "markdown",
      "source": [
        "La siguiente celda regresará al objeto `[4, True, None, 'Saludo']` a partir de `tupla[1]`."
      ],
      "metadata": {
        "id": "Jn28A7Ui4Iw2"
      }
    },
    {
      "cell_type": "code",
      "source": [
        "tupla[1]"
      ],
      "metadata": {
        "colab": {
          "base_uri": "https://localhost:8080/"
        },
        "id": "73LtQgQh4Kv6",
        "outputId": "c845c972-cd15-4f9c-9ab0-c71d507d48f8"
      },
      "execution_count": 18,
      "outputs": [
        {
          "output_type": "execute_result",
          "data": {
            "text/plain": [
              "[4, True, None, 'Saludo']"
            ]
          },
          "metadata": {},
          "execution_count": 18
        }
      ]
    },
    {
      "cell_type": "markdown",
      "source": [
        "La siguiente celda regresará al objeto ***'Saludo'*** a partir de `tupla[1][3].`"
      ],
      "metadata": {
        "id": "1bcaCWU64NFy"
      }
    },
    {
      "cell_type": "code",
      "source": [
        "tupla[1][3]"
      ],
      "metadata": {
        "colab": {
          "base_uri": "https://localhost:8080/",
          "height": 36
        },
        "id": "YKOsls2U4QAK",
        "outputId": "b47c45a7-968d-4164-f28c-2fd7553d264d"
      },
      "execution_count": 19,
      "outputs": [
        {
          "output_type": "execute_result",
          "data": {
            "text/plain": [
              "'Saludo'"
            ],
            "application/vnd.google.colaboratory.intrinsic+json": {
              "type": "string"
            }
          },
          "metadata": {},
          "execution_count": 19
        }
      ]
    },
    {
      "cell_type": "markdown",
      "source": [
        "La siguiente celda regresará al cracter ***'l'*** a partir de `tupla[1][3][2].`"
      ],
      "metadata": {
        "id": "LNVQh3SY4Ula"
      }
    },
    {
      "cell_type": "code",
      "source": [
        "tupla[1][3][2]"
      ],
      "metadata": {
        "colab": {
          "base_uri": "https://localhost:8080/",
          "height": 36
        },
        "id": "Iyc2-T6s4Vhy",
        "outputId": "d7163624-948a-4509-85b8-134df42a8929"
      },
      "execution_count": 20,
      "outputs": [
        {
          "output_type": "execute_result",
          "data": {
            "text/plain": [
              "'l'"
            ],
            "application/vnd.google.colaboratory.intrinsic+json": {
              "type": "string"
            }
          },
          "metadata": {},
          "execution_count": 20
        }
      ]
    },
    {
      "cell_type": "markdown",
      "source": [
        "A continuación se definirá al objeto de tipo ***dict*** con el nombre persona."
      ],
      "metadata": {
        "id": "XJJMtcEm4bw5"
      }
    },
    {
      "cell_type": "code",
      "source": [
        "persona = {'nombre': 'Juan', 'primer apellido': 'Pérez', 'promedio':7.8}"
      ],
      "metadata": {
        "id": "pWFKVOhD4cVs"
      },
      "execution_count": 21,
      "outputs": []
    },
    {
      "cell_type": "markdown",
      "source": [
        "La siguiente celda obtendrá al objeto **'Pérez'** a partir de `persona['primer apellido']`."
      ],
      "metadata": {
        "id": "qaQXQgFI4fTr"
      }
    },
    {
      "cell_type": "code",
      "source": [
        "persona['primer apellido']"
      ],
      "metadata": {
        "colab": {
          "base_uri": "https://localhost:8080/",
          "height": 36
        },
        "id": "5ttWhPv44iOi",
        "outputId": "ee81ba93-0594-4fd9-cbb4-d0dc2e8f08bf"
      },
      "execution_count": 22,
      "outputs": [
        {
          "output_type": "execute_result",
          "data": {
            "text/plain": [
              "'Pérez'"
            ],
            "application/vnd.google.colaboratory.intrinsic+json": {
              "type": "string"
            }
          },
          "metadata": {},
          "execution_count": 22
        }
      ]
    },
    {
      "cell_type": "markdown",
      "source": [
        "La siguiente celda obtendrá al caracter **'é'** a partir de persona `['primer apellido'][-4]`."
      ],
      "metadata": {
        "id": "HCAK_bSE4mFV"
      }
    },
    {
      "cell_type": "code",
      "source": [
        "persona['primer apellido'][-4]"
      ],
      "metadata": {
        "id": "71wOqfvu4oVQ"
      },
      "execution_count": null,
      "outputs": []
    },
    {
      "cell_type": "markdown",
      "source": [
        "## Indexado de elementos por rangos numéricos.\n",
        "\n",
        "Las colecciones con índices numéricos como tuple, list, str, bytearray y bytes permiten indexar rangos de elementos con la siguiente sintaxis.\n",
        "\n",
        "`<colección>[<m>:<n>:<i>]`\n",
        "\n",
        "**Donde:**\n",
        "\n",
        "\n",
        "*   <m> es el índice inicial.\n",
        "*   <n> es el índice final.\n",
        "*   <i> es un número entero que indica los incrementos (si es positivo) o decrementos (si es negativo).\n",
        "\n",
        "El resultado será un nuevo objeto del mismo tipo que el original incluyendo los elementos comprendidos entre el índice inicial y uno antes que el índice final en los incrementos o decrementos indicados. A esto se le conoce como **\"rebanado\"**.\n",
        "\n",
        "Si no se indica un número de incremento/decremento, el número será igual a 1.\n",
        "En caso de que se indiquen incrementos:\n",
        "El índice inicial debe de ser menor que el índice final.\n",
        "Si no se indica un índice inicial, el rango empieza desde el índice 0.\n",
        "Si no se indica un índice final, el rango termina con el último elemento contenido.\n",
        "En caso de que se indiquen decrementos:\n",
        "El índice inicial debe de ser mayor que el índice final.\n",
        "Si no se indica un índice inicial, el rango empieza desde el índice del último elemento contenido.\n",
        "Si no se indica un índice final, el rango termina en el primer elemento.\n",
        "Si no se indica ningún índice y sólo se colocan los dos puntos :, se hará un rebanado completo del objeto.\n",
        "Los índices pueden ser superiores al tamaño de la colección.\n",
        "Si el rango no tiene sentido, se regresará una colección vacía.\n",
        "\n",
        "**Ejemplos:**\n",
        "\n",
        "Para ilustrar el uso del rebanado se creara el objeto lista de tipo ***list***."
      ],
      "metadata": {
        "id": "Zv-ROCRo4p7G"
      }
    },
    {
      "cell_type": "code",
      "source": [
        "lista = [0, 1, 2, 3, 4, 5, 6, 7, 8]"
      ],
      "metadata": {
        "id": "wPHkiGev4xeB"
      },
      "execution_count": 23,
      "outputs": []
    },
    {
      "cell_type": "markdown",
      "source": [
        "La siguiente celda regresará un objeto tipo list con los elementos con índices que van de 0 a antes de 6 en incrementos de 2."
      ],
      "metadata": {
        "id": "QN-yJKv0413T"
      }
    },
    {
      "cell_type": "code",
      "source": [
        "lista[::1]"
      ],
      "metadata": {
        "colab": {
          "base_uri": "https://localhost:8080/"
        },
        "id": "iN78EXyu43n7",
        "outputId": "c7e868f6-6a3f-4ff7-bdb8-ab6bd56b8b89"
      },
      "execution_count": 24,
      "outputs": [
        {
          "output_type": "execute_result",
          "data": {
            "text/plain": [
              "[0, 1, 2, 3, 4, 5, 6, 7, 8]"
            ]
          },
          "metadata": {},
          "execution_count": 24
        }
      ]
    },
    {
      "cell_type": "markdown",
      "source": [
        "La siguiente celda regresará un objeto tipo list con los elementos con índices que van de 6 a antes de 0 en decrementos de -2."
      ],
      "metadata": {
        "id": "sVaaZph047Gb"
      }
    },
    {
      "cell_type": "code",
      "source": [
        "lista[6:0:-2]"
      ],
      "metadata": {
        "colab": {
          "base_uri": "https://localhost:8080/"
        },
        "id": "Ay1mFrpN482K",
        "outputId": "a1d9d335-2b55-4a69-db7b-b6e28c1c1c97"
      },
      "execution_count": 25,
      "outputs": [
        {
          "output_type": "execute_result",
          "data": {
            "text/plain": [
              "[6, 4, 2]"
            ]
          },
          "metadata": {},
          "execution_count": 25
        }
      ]
    },
    {
      "cell_type": "markdown",
      "source": [
        "La siguiente celda regresará un objeto tipo list vacío en vista de que el rango no tiene sentido."
      ],
      "metadata": {
        "id": "mDzJkGVc5AoU"
      }
    },
    {
      "cell_type": "code",
      "source": [
        "lista[0:6:-2]"
      ],
      "metadata": {
        "colab": {
          "base_uri": "https://localhost:8080/"
        },
        "id": "cVznUz-z5CKz",
        "outputId": "f7ce2793-5e2a-4130-9577-cf165b1cff2f"
      },
      "execution_count": 26,
      "outputs": [
        {
          "output_type": "execute_result",
          "data": {
            "text/plain": [
              "[]"
            ]
          },
          "metadata": {},
          "execution_count": 26
        }
      ]
    },
    {
      "cell_type": "markdown",
      "source": [
        "La siguiente celda regresará un objeto tipo list con los elementos con índices 2 a 4."
      ],
      "metadata": {
        "id": "6L_NR-E35IsA"
      }
    },
    {
      "cell_type": "code",
      "source": [
        "lista[2:5]"
      ],
      "metadata": {
        "colab": {
          "base_uri": "https://localhost:8080/"
        },
        "id": "WfOuTlCP5Kx0",
        "outputId": "c577d793-7344-4156-c276-7a6a677fe165"
      },
      "execution_count": 27,
      "outputs": [
        {
          "output_type": "execute_result",
          "data": {
            "text/plain": [
              "[2, 3, 4]"
            ]
          },
          "metadata": {},
          "execution_count": 27
        }
      ]
    },
    {
      "cell_type": "markdown",
      "source": [
        "La siguiente celda regresará un objeto tipo list con el elemento con índice 8, en vista de que ese el último elemento del objeto lista."
      ],
      "metadata": {
        "id": "zKR-aaCO5NOe"
      }
    },
    {
      "cell_type": "code",
      "source": [
        "lista[5:25]"
      ],
      "metadata": {
        "colab": {
          "base_uri": "https://localhost:8080/"
        },
        "id": "ioUqhAm25PYz",
        "outputId": "195b0b14-2b25-460c-ba6b-84e8b11d24c9"
      },
      "execution_count": 28,
      "outputs": [
        {
          "output_type": "execute_result",
          "data": {
            "text/plain": [
              "[5, 6, 7, 8]"
            ]
          },
          "metadata": {},
          "execution_count": 28
        }
      ]
    },
    {
      "cell_type": "markdown",
      "source": [
        "La siguiente celda regresará un objeto tipo list con los elementos con índices -2 y -1."
      ],
      "metadata": {
        "id": "hj86RfVd5Tpq"
      }
    },
    {
      "cell_type": "code",
      "source": [
        "lista[-3:20]"
      ],
      "metadata": {
        "colab": {
          "base_uri": "https://localhost:8080/"
        },
        "id": "5i5kg0dk5Vqo",
        "outputId": "da54bb86-2828-4f9c-ecc2-dfef59db7b15"
      },
      "execution_count": 29,
      "outputs": [
        {
          "output_type": "execute_result",
          "data": {
            "text/plain": [
              "[6, 7, 8]"
            ]
          },
          "metadata": {},
          "execution_count": 29
        }
      ]
    },
    {
      "cell_type": "markdown",
      "source": [
        "Las siguientes celdas indican rangos impropios y regresan un objeto list vacío."
      ],
      "metadata": {
        "id": "HjudFoXb5X_-"
      }
    },
    {
      "cell_type": "code",
      "source": [
        "lista[-2:3:-1]"
      ],
      "metadata": {
        "colab": {
          "base_uri": "https://localhost:8080/"
        },
        "id": "48kMBgxy5Z15",
        "outputId": "113c066f-df7a-4b07-d639-b4dc8e81193b"
      },
      "execution_count": 30,
      "outputs": [
        {
          "output_type": "execute_result",
          "data": {
            "text/plain": [
              "[7, 6, 5, 4]"
            ]
          },
          "metadata": {},
          "execution_count": 30
        }
      ]
    },
    {
      "cell_type": "code",
      "source": [
        "lista[5:3:-1]"
      ],
      "metadata": {
        "colab": {
          "base_uri": "https://localhost:8080/"
        },
        "id": "CAs1Qg4A5hUn",
        "outputId": "61143ff1-be4b-48c4-9f3f-e1b80d9e8d3d"
      },
      "execution_count": 31,
      "outputs": [
        {
          "output_type": "execute_result",
          "data": {
            "text/plain": [
              "[5, 4]"
            ]
          },
          "metadata": {},
          "execution_count": 31
        }
      ]
    },
    {
      "cell_type": "markdown",
      "source": [
        "La siguiente celda traerá los caracteres que van del inicio a uno antes de índice 8 en incremementos de 3 a partir del objeto \"Polimorfismo\"."
      ],
      "metadata": {
        "id": "M9d1Qi2j5ksI"
      }
    },
    {
      "cell_type": "code",
      "source": [
        "\"Polimorfismo\"[0:8:3]"
      ],
      "metadata": {
        "colab": {
          "base_uri": "https://localhost:8080/",
          "height": 36
        },
        "id": "9Z6EIxPf5mtH",
        "outputId": "614cdf3f-1986-4a36-80e5-ab7c88b8305c"
      },
      "execution_count": 32,
      "outputs": [
        {
          "output_type": "execute_result",
          "data": {
            "text/plain": [
              "'Pir'"
            ],
            "application/vnd.google.colaboratory.intrinsic+json": {
              "type": "string"
            }
          },
          "metadata": {},
          "execution_count": 32
        }
      ]
    },
    {
      "cell_type": "markdown",
      "source": [
        "La siguiente celda traerá los caracteres que van del final a uno antes de índice 3 en decremementos de -1 a partir del objeto \"Polimorfismo\"."
      ],
      "metadata": {
        "id": "aTCgxbcA5tE6"
      }
    },
    {
      "cell_type": "code",
      "source": [
        "\"Poilmorfismo\"[:3:-1]"
      ],
      "metadata": {
        "colab": {
          "base_uri": "https://localhost:8080/",
          "height": 36
        },
        "id": "p1VzBT3F5vKk",
        "outputId": "5faa9cd1-e8f0-48b9-b9f7-b1beda7b2d19"
      },
      "execution_count": 33,
      "outputs": [
        {
          "output_type": "execute_result",
          "data": {
            "text/plain": [
              "'omsifrom'"
            ],
            "application/vnd.google.colaboratory.intrinsic+json": {
              "type": "string"
            }
          },
          "metadata": {},
          "execution_count": 33
        }
      ]
    },
    {
      "cell_type": "markdown",
      "source": [
        "La siguiente celda realizará un rebanado completo de un objeto tipo tuple."
      ],
      "metadata": {
        "id": "8dOz78aW5yrL"
      }
    },
    {
      "cell_type": "code",
      "source": [
        "(0,1,2,3,4,5)[:]"
      ],
      "metadata": {
        "colab": {
          "base_uri": "https://localhost:8080/"
        },
        "id": "a6u1x6Pl50QF",
        "outputId": "1e4f902f-91b5-46ab-9676-88c23511e5d8"
      },
      "execution_count": 34,
      "outputs": [
        {
          "output_type": "execute_result",
          "data": {
            "text/plain": [
              "(0, 1, 2, 3, 4, 5)"
            ]
          },
          "metadata": {},
          "execution_count": 34
        }
      ]
    },
    {
      "cell_type": "markdown",
      "source": [
        "La siguiente celda realizará un rebanado completo de un objeto de tipo tuple, pero en sentido inverso."
      ],
      "metadata": {
        "id": "B0UQr2vI52on"
      }
    },
    {
      "cell_type": "code",
      "source": [
        "(0,1,2,3,4,5)[::-1]"
      ],
      "metadata": {
        "colab": {
          "base_uri": "https://localhost:8080/"
        },
        "id": "OjA75lTx54B-",
        "outputId": "ae2d35c9-9a02-4b26-dd0c-fa9f74dbe2ab"
      },
      "execution_count": 35,
      "outputs": [
        {
          "output_type": "execute_result",
          "data": {
            "text/plain": [
              "(5, 4, 3, 2, 1, 0)"
            ]
          },
          "metadata": {},
          "execution_count": 35
        }
      ]
    },
    {
      "cell_type": "markdown",
      "source": [
        "A continuación se hará un rebanado completo del objeto lista el cual regresará un objetos nuevo al que se le asignará el nombre nueva_lista"
      ],
      "metadata": {
        "id": "YXF_Zu2e56IS"
      }
    },
    {
      "cell_type": "code",
      "source": [
        "nueva_lista = lista[:]"
      ],
      "metadata": {
        "id": "Lhrygd9u57w9"
      },
      "execution_count": 36,
      "outputs": []
    },
    {
      "cell_type": "markdown",
      "source": [
        "Los objetos **lista** y **nueva_lista** comparten el contenido, pero son objetos distintos."
      ],
      "metadata": {
        "id": "s49FrbFy59-U"
      }
    },
    {
      "cell_type": "code",
      "source": [
        "nueva_lista"
      ],
      "metadata": {
        "colab": {
          "base_uri": "https://localhost:8080/"
        },
        "id": "wJVyA3_u6AOL",
        "outputId": "65327c93-cb8c-4c4d-a04e-2750c5b452b0"
      },
      "execution_count": 37,
      "outputs": [
        {
          "output_type": "execute_result",
          "data": {
            "text/plain": [
              "[0, 1, 2, 3, 4, 5, 6, 7, 8]"
            ]
          },
          "metadata": {},
          "execution_count": 37
        }
      ]
    },
    {
      "cell_type": "code",
      "source": [
        "id(lista)"
      ],
      "metadata": {
        "colab": {
          "base_uri": "https://localhost:8080/"
        },
        "id": "_uckgCHA6CWL",
        "outputId": "b5983112-9cec-479e-d954-8430d5b3ae08"
      },
      "execution_count": 38,
      "outputs": [
        {
          "output_type": "execute_result",
          "data": {
            "text/plain": [
              "135811803500416"
            ]
          },
          "metadata": {},
          "execution_count": 38
        }
      ]
    },
    {
      "cell_type": "code",
      "source": [
        "id(nueva_lista)"
      ],
      "metadata": {
        "colab": {
          "base_uri": "https://localhost:8080/"
        },
        "id": "n2BXzC296EZ1",
        "outputId": "62da1b7a-fc8f-4193-d176-7108fa1e9f13"
      },
      "execution_count": 39,
      "outputs": [
        {
          "output_type": "execute_result",
          "data": {
            "text/plain": [
              "135811803332288"
            ]
          },
          "metadata": {},
          "execution_count": 39
        }
      ]
    }
  ]
}